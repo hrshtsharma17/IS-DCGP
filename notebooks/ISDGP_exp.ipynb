{
 "cells": [
  {
   "cell_type": "markdown",
   "metadata": {},
   "source": [
    "<h1>Image Segmentation using DGPs</h1>"
   ]
  },
  {
   "cell_type": "markdown",
   "metadata": {},
   "source": [
    "<p># Motivation: <br>\n",
    "1) To solve the image segmentation task along with the uncertainity incorporation in this process using bayesian statistics<br>\n",
    "2) Non-parametric approach to solve the problem.(millions of parameters are not desired for a flexible dataset training)<br></p>\n",
    "<p># Image segmentation algorithms:<br>\n",
    "    1)Region-Based IS.<br>\n",
    "    2)Edge detection Based IS<br>\n",
    "    3)Kmeans Clustering Based IS<br>\n",
    "    4)Mask R-CNN model</p>"
   ]
  },
  {
   "cell_type": "markdown",
   "metadata": {},
   "source": [
    "<h3>IS USING DCG-DGP </h3>"
   ]
  },
  {
   "cell_type": "code",
   "execution_count": 19,
   "metadata": {},
   "outputs": [],
   "source": [
    "import matplotlib.pyplot as plt\n",
    "%matplotlib inline\n",
    "\n",
    "import numpy as np\n",
    "import tensorflow as tf\n"
   ]
  },
  {
   "cell_type": "code",
   "execution_count": 3,
   "metadata": {},
   "outputs": [],
   "source": [
    "from gpflow.likelihoods import MultiClass\n",
    "from gpflow.kernels import RBF, White\n",
    "from gpflow.models.svgp import SVGP\n",
    "from gpflow.training import AdamOptimizer\n",
    "\n",
    "from scipy.stats import mode\n",
    "from scipy.cluster.vq import kmeans2\n",
    "\n",
    "from doubly_stochastic_dgp.dgp import DGP\n",
    "\n",
    "import time"
   ]
  },
  {
   "cell_type": "code",
   "execution_count": 20,
   "metadata": {},
   "outputs": [
    {
     "name": "stdout",
     "output_type": "stream",
     "text": [
      "[0705 12:36:28 @fs.py:101] WRN Env var $TENSORPACK_DATASET not set, using C:\\Users\\DesignerBe\\tensorpack_data for datasets.\n"
     ]
    }
   ],
   "source": [
    "#loading the data\n",
    "def get_bsds_data(data_path='/data'):\n",
    "    from tensorpack.dataflow.dataset import BSDS500\n",
    "    train = BSDS500('train', data_dir=None, shuffle=True)\n",
    "    test = BSDS500('test', data_dir=None, shuffle=True)\n",
    "    val = BSDS500('val', data_dir=None, shuffle=True)\n",
    "\n",
    "    X,Y  = train.data , train.label\n",
    "    Xval,Yval = val.data , val.label\n",
    "    Xtest,Ytest = test.data , test.label\n",
    "    \n",
    "    Y, Yval, Ytest = [np.array(y, dtype=float)[:, None] for y in [Y, Yval, Ytest]]\n",
    "\n",
    "    X = np.concatenate([X, Xval], 0)\n",
    "    Y = np.concatenate([Y, Yval], 0)\n",
    "    \n",
    "    return X.astype(float), Y.astype(float), Xtest.astype(float), Ytest.astype(float)\n",
    "\n",
    "X, Y, Xs, Ys = get_bsds_data()\n"
   ]
  },
  {
   "cell_type": "code",
   "execution_count": 11,
   "metadata": {},
   "outputs": [],
   "source": [
    "import os\n",
    "import numpy as np\n",
    "import toml\n",
    "import pandas\n",
    "import matplotlib\n",
    "from matplotlib import pyplot as plt\n",
    "%matplotlib inline\n",
    "\n",
    "import seaborn\n",
    "seaborn.set(style=\"white\")\n",
    "\n",
    "matplotlib.rcParams['axes.spines.top'] = False\n",
    "matplotlib.rcParams['axes.spines.right'] = False\n",
    "matplotlib.rcParams['axes.spines.bottom'] = False\n",
    "matplotlib.rcParams['axes.spines.left'] = False\n",
    "font = {'family' : 'Ubuntu, Arial',\n",
    "        'size'   : 18}\n",
    "matplotlib.rc('font', **font)\n",
    "matplotlib.rc('xtick', labelsize=18)\n",
    "matplotlib.rc('ytick', labelsize=18)\n",
    "matplotlib.rc('figure', figsize=(11, 6.8))\n",
    "matplotlib.rc('axes', titlesize=24)\n",
    "matplotlib.rc('legend', fontsize=18)\n",
    "matplotlib.rc('axes', labelsize=18)"
   ]
  },
  {
   "cell_type": "code",
   "execution_count": 14,
   "metadata": {},
   "outputs": [],
   "source": [
    "RESULT_DIR = './results/'\n",
    "def read_experiment(name):\n",
    "    flags_path = os.path.join(RESULT_DIR, name, \"options.toml\")\n",
    "    log_path = os.path.join(RESULT_DIR, name, \"log.csv\")\n",
    "    try:\n",
    "        log = pandas.read_csv(log_path)\n",
    "    except pandas.errors.EmptyDataError:\n",
    "        return None\n",
    "    return {\n",
    "        'log': log,\n",
    "        'flags': toml.load(flags_path)\n",
    "    }"
   ]
  },
  {
   "cell_type": "code",
   "execution_count": 16,
   "metadata": {},
   "outputs": [],
   "source": [
    "experiments = os.listdir(RESULT_DIR)\n",
    "experiments = [read_experiment(name) for name in experiments]\n",
    "experiments = [e for e in experiments if e]"
   ]
  },
  {
   "cell_type": "code",
   "execution_count": null,
   "metadata": {},
   "outputs": [],
   "source": [
    "plot_shape = (2, 2)\n",
    "figure = plt.figure(figsize=(17, 10 * plot_shape[1]))\n",
    "\n",
    "def plot_likelihood_accuracy(experiments, label_fn, row=0):\n",
    "    axis = plt.subplot2grid(plot_shape, (row, 0)) \n",
    "\n",
    "    for i, experiment in enumerate(experiments):\n",
    "        likelihood = experiment['log']['train_log_likelihood'].values\n",
    "        global_step = experiment['log']['global_step'].values\n",
    "        label = label_fn(experiment)\n",
    "        axis.plot(global_step, likelihood, c=\"C{}\".format(i), label=label)\n",
    "        axis.set_xlabel('Optimization steps')\n",
    "        axis.set_ylabel('Train likelihood')\n",
    "    axis.legend();\n",
    "\n",
    "\n",
    "    axis = plt.subplot2grid(plot_shape, (row, 1))\n",
    "\n",
    "    for i, experiment in enumerate(experiments):\n",
    "        test_accuracy = experiment['log']['test_accuracy'].values\n",
    "        global_step = experiment['log']['global_step'].values\n",
    "        label = label_fn(experiment)\n",
    "        axis.plot(global_step, test_accuracy, c=\"C{}\".format(i), label=label)\n",
    "        axis.set_xlabel('Optimization steps')\n",
    "        axis.set_ylabel('Test accuracy')\n",
    "\n",
    "    axis.legend();\n",
    "    plt.tight_layout();\n",
    "    \n",
    "    \n",
    "M100_experiments = [e for e in experiments if e['flags']['M'] == 100]\n",
    "M100_experiments.sort(key=lambda a: -a['flags']['N'])\n",
    "plot_likelihood_accuracy(M100_experiments, lambda e: \"N={}\".format(e['flags']['N']))\n",
    "\n",
    "\n",
    "M_experiments = [e for e in experiments if e['flags']['N'] == 60000 and e['flags']['fashion'] == False]\n",
    "M_experiments.sort(key=lambda a: -a['flags']['M'])\n",
    "plot_likelihood_accuracy(M_experiments, lambda e: \"M={}\".format(e['flags']['M']), row=1)"
   ]
  },
  {
   "cell_type": "code",
   "execution_count": null,
   "metadata": {},
   "outputs": [],
   "source": [
    "def tile_inducing_points(points):\n",
    "    points = points.reshape(-1, 5, 5)\n",
    "    rows = int(np.ceil(np.sqrt(points.shape[0])))\n",
    "    columns = int(np.ceil(np.sqrt(points.shape[0])))\n",
    "    for row_index in range(rows):\n",
    "        for column_index in range(columns):\n",
    "            point_index = row_index * rows + column_index\n",
    "            if point_index >= points.shape[0]:\n",
    "                break;\n",
    "            current_point = points[point_index]\n",
    "            axis = plt.subplot2grid((rows, columns), (row_index, column_index))\n",
    "            axis.imshow(current_point)\n",
    "            axis.yaxis.set_visible(False)\n",
    "            axis.xaxis.set_visible(False)\n",
    "\n",
    "z_init = np.load('../results/N60000_M512/z_init.npy')\n",
    "\n",
    "figure = plt.figure(figsize=(50, 50))\n",
    "tile_inducing_points(z_init)\n",
    "plt.tight_layout();"
   ]
  },
  {
   "cell_type": "code",
   "execution_count": null,
   "metadata": {},
   "outputs": [],
   "source": [
    "inducing_points = np.load('../results/N60000_M512/inducing_points.npy')\n",
    "figure = plt.figure(figsize=(50, 50))\n",
    "tile_inducing_points(inducing_points)\n",
    "plt.tight_layout()"
   ]
  },
  {
   "cell_type": "code",
   "execution_count": 3,
   "metadata": {},
   "outputs": [],
   "source": [
    "import scipy.io\n",
    "mat = scipy.io.loadmat('C:/Users/DesignerBe/ISDGP/BSR/BSDS500/data/groundTruth/train/2092.mat')"
   ]
  },
  {
   "cell_type": "code",
   "execution_count": 18,
   "metadata": {},
   "outputs": [
    {
     "name": "stdout",
     "output_type": "stream",
     "text": [
      "[[array([[(array([[ 1,  1,  1, ...,  1,  1,  1],\n",
      "       [ 1,  1,  1, ...,  1,  1,  1],\n",
      "       [ 1,  1,  1, ...,  1,  1,  1],\n",
      "       ...,\n",
      "       [15, 15, 15, ..., 15, 15, 15],\n",
      "       [15, 15, 15, ..., 15, 15, 15],\n",
      "       [15, 15, 15, ..., 15, 15, 15]], dtype=uint16), array([[0, 0, 0, ..., 0, 0, 0],\n",
      "       [0, 0, 0, ..., 0, 0, 0],\n",
      "       [0, 0, 0, ..., 0, 0, 0],\n",
      "       ...,\n",
      "       [0, 0, 0, ..., 0, 0, 0],\n",
      "       [0, 0, 0, ..., 0, 0, 0],\n",
      "       [0, 0, 0, ..., 0, 0, 0]], dtype=uint8))]],\n",
      "      dtype=[('Segmentation', 'O'), ('Boundaries', 'O')])\n",
      "  array([[(array([[ 1,  1,  1, ...,  1,  1,  1],\n",
      "       [ 1,  1,  1, ...,  1,  1,  1],\n",
      "       [ 1,  1,  1, ...,  1,  1,  1],\n",
      "       ...,\n",
      "       [10, 10, 10, ..., 10, 10, 10],\n",
      "       [10, 10, 10, ..., 10, 10, 10],\n",
      "       [10, 10, 10, ..., 10, 10, 10]], dtype=uint16), array([[0, 0, 0, ..., 0, 0, 0],\n",
      "       [0, 0, 0, ..., 0, 0, 0],\n",
      "       [0, 0, 0, ..., 0, 0, 0],\n",
      "       ...,\n",
      "       [0, 0, 0, ..., 0, 0, 0],\n",
      "       [0, 0, 0, ..., 0, 0, 0],\n",
      "       [0, 0, 0, ..., 0, 0, 0]], dtype=uint8))]],\n",
      "      dtype=[('Segmentation', 'O'), ('Boundaries', 'O')])\n",
      "  array([[(array([[ 1,  1,  1, ...,  1,  1,  1],\n",
      "       [ 1,  1,  1, ...,  1,  1,  1],\n",
      "       [ 1,  1,  1, ...,  1,  1,  1],\n",
      "       ...,\n",
      "       [18, 18, 18, ..., 18, 18, 18],\n",
      "       [18, 18, 18, ..., 18, 18, 18],\n",
      "       [18, 18, 18, ..., 18, 18, 18]], dtype=uint16), array([[0, 0, 0, ..., 0, 0, 0],\n",
      "       [0, 0, 0, ..., 0, 0, 0],\n",
      "       [0, 0, 0, ..., 0, 0, 0],\n",
      "       ...,\n",
      "       [0, 0, 0, ..., 0, 0, 0],\n",
      "       [0, 0, 0, ..., 0, 0, 0],\n",
      "       [0, 0, 0, ..., 0, 0, 0]], dtype=uint8))]],\n",
      "      dtype=[('Segmentation', 'O'), ('Boundaries', 'O')])\n",
      "  array([[(array([[1, 1, 1, ..., 1, 1, 1],\n",
      "       [1, 1, 1, ..., 1, 1, 1],\n",
      "       [1, 1, 1, ..., 1, 1, 1],\n",
      "       ...,\n",
      "       [8, 8, 8, ..., 8, 8, 8],\n",
      "       [8, 8, 8, ..., 8, 8, 8],\n",
      "       [8, 8, 8, ..., 8, 8, 8]], dtype=uint16), array([[0, 0, 0, ..., 0, 0, 0],\n",
      "       [0, 0, 0, ..., 0, 0, 0],\n",
      "       [0, 0, 0, ..., 0, 0, 0],\n",
      "       ...,\n",
      "       [0, 0, 0, ..., 0, 0, 0],\n",
      "       [0, 0, 0, ..., 0, 0, 0],\n",
      "       [0, 0, 0, ..., 0, 0, 0]], dtype=uint8))]],\n",
      "      dtype=[('Segmentation', 'O'), ('Boundaries', 'O')])\n",
      "  array([[(array([[ 1,  1,  1, ...,  1,  1,  1],\n",
      "       [ 1,  1,  1, ...,  1,  1,  1],\n",
      "       [ 1,  1,  1, ...,  1,  1,  1],\n",
      "       ...,\n",
      "       [17, 17, 17, ..., 17, 17, 17],\n",
      "       [17, 17, 17, ..., 17, 17, 17],\n",
      "       [17, 17, 17, ..., 17, 17, 17]], dtype=uint16), array([[0, 0, 0, ..., 0, 0, 0],\n",
      "       [0, 0, 0, ..., 0, 0, 0],\n",
      "       [0, 0, 0, ..., 0, 0, 0],\n",
      "       ...,\n",
      "       [0, 0, 0, ..., 0, 0, 0],\n",
      "       [0, 0, 0, ..., 0, 0, 0],\n",
      "       [0, 0, 0, ..., 0, 0, 0]], dtype=uint8))]],\n",
      "      dtype=[('Segmentation', 'O'), ('Boundaries', 'O')])\n",
      "  array([[(array([[1, 1, 1, ..., 1, 1, 1],\n",
      "       [1, 1, 1, ..., 1, 1, 1],\n",
      "       [1, 1, 1, ..., 1, 1, 1],\n",
      "       ...,\n",
      "       [5, 5, 5, ..., 5, 5, 5],\n",
      "       [5, 5, 5, ..., 5, 5, 5],\n",
      "       [5, 5, 5, ..., 5, 5, 5]], dtype=uint16), array([[0, 0, 0, ..., 0, 0, 0],\n",
      "       [0, 0, 0, ..., 0, 0, 0],\n",
      "       [0, 0, 0, ..., 0, 0, 0],\n",
      "       ...,\n",
      "       [0, 0, 0, ..., 0, 0, 0],\n",
      "       [0, 0, 0, ..., 0, 0, 0],\n",
      "       [0, 0, 0, ..., 0, 0, 0]], dtype=uint8))]],\n",
      "      dtype=[('Segmentation', 'O'), ('Boundaries', 'O')])\n",
      "  array([[(array([[ 1,  1,  1, ...,  1,  1,  1],\n",
      "       [ 1,  1,  1, ...,  1,  1,  1],\n",
      "       [ 1,  1,  1, ...,  1,  1,  1],\n",
      "       ...,\n",
      "       [15, 15, 15, ..., 15, 15, 15],\n",
      "       [15, 15, 15, ..., 15, 15, 15],\n",
      "       [15, 15, 15, ..., 15, 15, 15]], dtype=uint16), array([[0, 0, 0, ..., 0, 0, 0],\n",
      "       [0, 0, 0, ..., 0, 0, 0],\n",
      "       [0, 0, 0, ..., 0, 0, 0],\n",
      "       ...,\n",
      "       [0, 0, 0, ..., 0, 0, 0],\n",
      "       [0, 0, 0, ..., 0, 0, 0],\n",
      "       [0, 0, 0, ..., 0, 0, 0]], dtype=uint8))]],\n",
      "      dtype=[('Segmentation', 'O'), ('Boundaries', 'O')])]]\n"
     ]
    }
   ],
   "source": [
    "print(mat['groundTruth'])"
   ]
  },
  {
   "cell_type": "code",
   "execution_count": 21,
   "metadata": {},
   "outputs": [
    {
     "data": {
      "text/plain": [
       "(300, 321, 481, 3)"
      ]
     },
     "execution_count": 21,
     "metadata": {},
     "output_type": "execute_result"
    }
   ],
   "source": [
    "X.shape"
   ]
  },
  {
   "cell_type": "code",
   "execution_count": 32,
   "metadata": {},
   "outputs": [
    {
     "data": {
      "text/plain": [
       "(200, 154401, 1)"
      ]
     },
     "execution_count": 32,
     "metadata": {},
     "output_type": "execute_result"
    }
   ],
   "source": [
    "Ys.reshape(200,-1,1).shape"
   ]
  },
  {
   "cell_type": "code",
   "execution_count": 27,
   "metadata": {},
   "outputs": [
    {
     "data": {
      "text/plain": [
       "(400, 321, 481, 3)"
      ]
     },
     "execution_count": 27,
     "metadata": {},
     "output_type": "execute_result"
    }
   ],
   "source": [
    "np.concatenate([X[0:200],Xs],axis=0).shape"
   ]
  },
  {
   "cell_type": "code",
   "execution_count": 34,
   "metadata": {},
   "outputs": [
    {
     "data": {
      "text/plain": [
       "300"
      ]
     },
     "execution_count": 34,
     "metadata": {},
     "output_type": "execute_result"
    }
   ],
   "source": [
    "X.shape[0]"
   ]
  },
  {
   "cell_type": "code",
   "execution_count": 37,
   "metadata": {},
   "outputs": [
    {
     "data": {
      "text/plain": [
       "array([ 93.83644519, 112.19120008, 109.93084829])"
      ]
     },
     "execution_count": 37,
     "metadata": {},
     "output_type": "execute_result"
    }
   ],
   "source": [
    "X.mean(axis=(0, 1, 2))"
   ]
  },
  {
   "cell_type": "code",
   "execution_count": null,
   "metadata": {},
   "outputs": [],
   "source": []
  }
 ],
 "metadata": {
  "kernelspec": {
   "display_name": "TF-GPU",
   "language": "python",
   "name": "mldl_env"
  },
  "language_info": {
   "codemirror_mode": {
    "name": "ipython",
    "version": 3
   },
   "file_extension": ".py",
   "mimetype": "text/x-python",
   "name": "python",
   "nbconvert_exporter": "python",
   "pygments_lexer": "ipython3",
   "version": "3.6.6"
  }
 },
 "nbformat": 4,
 "nbformat_minor": 2
}
